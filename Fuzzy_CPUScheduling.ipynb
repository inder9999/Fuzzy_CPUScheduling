{
  "nbformat": 4,
  "nbformat_minor": 0,
  "metadata": {
    "colab": {
      "provenance": []
    },
    "kernelspec": {
      "name": "python3",
      "display_name": "Python 3"
    },
    "language_info": {
      "name": "python"
    }
  },
  "cells": [
    {
      "cell_type": "code",
      "source": [
        " pip install -U scikit-fuzzy\n"
      ],
      "metadata": {
        "colab": {
          "base_uri": "https://localhost:8080/"
        },
        "id": "xRO56CUE5kcp",
        "outputId": "6d1166a4-b56b-4f8b-bf6d-92c16d43ba72"
      },
      "execution_count": null,
      "outputs": [
        {
          "output_type": "stream",
          "name": "stdout",
          "text": [
            "Looking in indexes: https://pypi.org/simple, https://us-python.pkg.dev/colab-wheels/public/simple/\n",
            "Collecting scikit-fuzzy\n",
            "  Downloading scikit-fuzzy-0.4.2.tar.gz (993 kB)\n",
            "\u001b[K     |████████████████████████████████| 993 kB 5.2 MB/s \n",
            "\u001b[?25hRequirement already satisfied: numpy>=1.6.0 in /usr/local/lib/python3.7/dist-packages (from scikit-fuzzy) (1.21.6)\n",
            "Requirement already satisfied: scipy>=0.9.0 in /usr/local/lib/python3.7/dist-packages (from scikit-fuzzy) (1.7.3)\n",
            "Requirement already satisfied: networkx>=1.9.0 in /usr/local/lib/python3.7/dist-packages (from scikit-fuzzy) (2.6.3)\n",
            "Building wheels for collected packages: scikit-fuzzy\n",
            "  Building wheel for scikit-fuzzy (setup.py) ... \u001b[?25l\u001b[?25hdone\n",
            "  Created wheel for scikit-fuzzy: filename=scikit_fuzzy-0.4.2-py3-none-any.whl size=894088 sha256=fa6c7d358e39c7eadd0a0e9e3952054ebd9d953372b4eb2936592c1eb6bbcff3\n",
            "  Stored in directory: /root/.cache/pip/wheels/d5/74/fc/38588a3d2e3f34f74588e6daa3aa5b0a322bd6f9420a707131\n",
            "Successfully built scikit-fuzzy\n",
            "Installing collected packages: scikit-fuzzy\n",
            "Successfully installed scikit-fuzzy-0.4.2\n"
          ]
        }
      ]
    },
    {
      "cell_type": "code",
      "execution_count": null,
      "metadata": {
        "id": "VYD_I0Eq1Eai"
      },
      "outputs": [],
      "source": [
        "import numpy as np \n",
        "import skfuzzy as fuzz \n",
        "from skfuzzy import control as ctrl \n",
        "from copy import copy, deepcopy"
      ]
    },
    {
      "cell_type": "markdown",
      "source": [
        "**IMPLEMENTATION OF FUZZY RR METHOD** "
      ],
      "metadata": {
        "id": "DWNAvicY7ibx"
      }
    },
    {
      "cell_type": "code",
      "source": [
        "def FUZZY_RR(N,arrival_time,burst_time,rem_burst_time,nice_value,time_quantum): \n",
        "# universe values of variables declared \n",
        "  burst_t = ctrl.Antecedent(np.arange(0,26,1),'burst_t') \n",
        "  nice_val = ctrl.Antecedent(np.arange(0,40,1),'nice_val') \n",
        "  cpu_use = ctrl.Antecedent(np.arange(0,100,1),'cpu_use') \n",
        "  dynamic_pri = ctrl.Consequent(np.arange(0,28,1),'dynamic_pri') \n",
        "  #Fuzzy membership function defined \n",
        "  burst_t['low'] = fuzz.trimf(burst_t.universe,[0,0,8]) \n",
        "  burst_t['med'] = fuzz.trimf(burst_t.universe,[5,13,21]) \n",
        "  burst_t['high'] = fuzz.trimf(burst_t.universe,[18,26,26]) \n",
        "  nice_val['low'] = fuzz.trimf(nice_val.universe,[0,0,14]) \n",
        "  nice_val['med'] = fuzz.trimf(nice_val.universe,[6,20,34]) \n",
        "  nice_val['high'] = fuzz.trimf(nice_val.universe,[26,40,40]) \n",
        "  cpu_use['low'] = fuzz.trimf(cpu_use.universe,[0,0,35]) \n",
        "  cpu_use['med'] = fuzz.trimf(cpu_use.universe,[15,55,85]) \n",
        "  cpu_use['high'] = fuzz.trimf(cpu_use.universe,[65,100,100]) \n",
        "  dynamic_pri['very_low'] = fuzz.trimf(dynamic_pri.universe,[0,0,5]) \n",
        "  dynamic_pri['low'] = fuzz.trimf(dynamic_pri.universe,[2,8,12]) \n",
        "  dynamic_pri['avg'] = fuzz.trimf(dynamic_pri.universe,[9,14,19]) \n",
        "  dynamic_pri['high'] = fuzz.trimf(dynamic_pri.universe,[16,21,26]) \n",
        "  dynamic_pri['very_high'] = fuzz.trimf(dynamic_pri.universe,[23,28,28]) \n",
        "  #RULES \n",
        "  rule1 = ctrl.Rule(burst_t['low'] & nice_val['low'] & cpu_use['low'],dynamic_pri['very_high']) \n",
        "  rule2 = ctrl.Rule(burst_t['low'] & nice_val['low'] & cpu_use['med'],dynamic_pri['high']) \n",
        "  rule3 = ctrl.Rule(burst_t['low'] & nice_val['low'] & cpu_use['high'],dynamic_pri['avg']) \n",
        "  rule4 = ctrl.Rule(burst_t['low'] & nice_val['med'] & cpu_use['low'],dynamic_pri['very_high']) \n",
        "  rule5 = ctrl.Rule(burst_t['low'] & nice_val['med'] & cpu_use['med'],dynamic_pri['avg']) \n",
        "  rule6 = ctrl.Rule(burst_t['low'] & nice_val['med'] & cpu_use['high'],dynamic_pri['low']) \n",
        "  rule7 = ctrl.Rule(burst_t['low'] & nice_val['high'] & cpu_use['low'],dynamic_pri['avg']) \n",
        "  rule8 = ctrl.Rule(burst_t['low'] & nice_val['high'] & cpu_use['med'],dynamic_pri['low']) \n",
        "  rule9 = ctrl.Rule(burst_t['low'] & nice_val['high'] & cpu_use['high'],dynamic_pri['low']) \n",
        "  rule10 = ctrl.Rule(burst_t['med'] & nice_val['low'] & cpu_use['low'],dynamic_pri['very_high']) \n",
        "  rule11 = ctrl.Rule(burst_t['med'] & nice_val['low'] & cpu_use['med'],dynamic_pri['high']) \n",
        "  rule12 = ctrl.Rule(burst_t['med'] & nice_val['low'] & cpu_use['high'],dynamic_pri['low']) \n",
        "  rule13 = ctrl.Rule(burst_t['med'] & nice_val['med'] & cpu_use['low'],dynamic_pri['high']) \n",
        "  rule14 = ctrl.Rule(burst_t['med'] & nice_val['med'] & cpu_use['med'],dynamic_pri['avg']) \n",
        "  rule15 = ctrl.Rule(burst_t['med'] & nice_val['med'] & cpu_use['high'],dynamic_pri['very_low']) \n",
        "  rule16 = ctrl.Rule(burst_t['med'] & nice_val['high'] & cpu_use['low'],dynamic_pri['avg']) \n",
        "  rule17 = ctrl.Rule(burst_t['med'] & nice_val['high'] & cpu_use['med'],dynamic_pri['low']) \n",
        "  rule18 = ctrl.Rule(burst_t['med'] & nice_val['high'] & cpu_use['high'],dynamic_pri['very_low']) \n",
        "  rule19 = ctrl.Rule(burst_t['high'] & nice_val['low'] & cpu_use['low'],dynamic_pri['very_high']) \n",
        "  rule20 = ctrl.Rule(burst_t['high'] & nice_val['low'] & cpu_use['med'],dynamic_pri['high']) \n",
        "  rule21 = ctrl.Rule(burst_t['high'] & nice_val['low'] & cpu_use['high'],dynamic_pri['low']) \n",
        "  rule22 = ctrl.Rule(burst_t['high'] & nice_val['med'] & cpu_use['low'],dynamic_pri['avg']) \n",
        "  rule23 = ctrl.Rule(burst_t['high'] & nice_val['med'] & cpu_use['med'],dynamic_pri['avg']) \n",
        "  rule24 = ctrl.Rule(burst_t['high'] & nice_val['med'] & cpu_use['high'],dynamic_pri['very_low']) \n",
        "  rule25 = ctrl.Rule(burst_t['high'] & nice_val['high'] & cpu_use['low'],dynamic_pri['low']) \n",
        "  rule26 = ctrl.Rule(burst_t['high'] & nice_val['high'] & cpu_use['med'],dynamic_pri['very_low']) \n",
        "  rule27 = ctrl.Rule(burst_t['high'] & nice_val['high'] & cpu_use['high'],dynamic_pri['very_low']) \n",
        "  # CODE FOR FINDING THE PARAMETERS OF TAT AND WT \n",
        "  total_burst_time = sum(burst_time) \n",
        "  cur_time=0 \n",
        "  turn_around_time=[0]*N \n",
        "  waiting_time=[0]*N \n",
        "  while(1) : \n",
        "    if sum(rem_burst_time)>0 : \n",
        "      cpu_usage=[0]*N \n",
        "      dpi=[0]*N \n",
        "      for i in range(N): \n",
        "        if rem_burst_time[i]>0 and arrival_time[i]<=cur_time: \n",
        "          cpu_usage[i]=burst_time[i]/(cur_time-arrival_time[i]-burst_time[i]+rem_burst_time[i]+total_burst_time) \n",
        "      for i in range(N) : \n",
        "        if rem_burst_time[i]>0 and arrival_time[i]<=cur_time: \n",
        "          dpi_ctrl = ctrl.ControlSystem([rule1,rule2,rule3,rule4,rule5,rule6,rule7,rule8,rule9,rule10,rule11,rule12])\n",
        "          dpi_ = ctrl.ControlSystemSimulation(dpi_ctrl) \n",
        "          dpi_.input['burst_t']=burst_time[i] \n",
        "          dpi_.input['nice_val']=nice_value[i] \n",
        "          dpi_.input['cpu_use']=cpu_usage[i] \n",
        "          dpi_.compute() \n",
        "          dpi[i]=dpi_.output['dynamic_pri'] \n",
        "      assigned_ind=dpi.index(max(dpi)) \n",
        "      if rem_burst_time[assigned_ind]>time_quantum : \n",
        "        cur_time=cur_time+time_quantum \n",
        "        rem_burst_time[assigned_ind] = rem_burst_time[assigned_ind]-time_quantum \n",
        "      else : \n",
        "        cur_time=cur_time+rem_burst_time[assigned_ind] \n",
        "        rem_burst_time[assigned_ind] = 0 \n",
        "        turn_around_time[assigned_ind] = cur_time-arrival_time[assigned_ind] \n",
        "        waiting_time[assigned_ind] = turn_around_time[assigned_ind]-burst_time[assigned_ind] \n",
        "    else : \n",
        "      #return sum(waiting_time)/N , sum(turn_around_time)/N \n",
        "      print(\"Average waiting time of Fuzzy RR = \", sum(waiting_time) / N) \n",
        "      print(\"Average turn around time of Fuzzy RR = \",sum(turn_around_time) / N) \n",
        "      return \n"
      ],
      "metadata": {
        "id": "-zLwTJom1X_w"
      },
      "execution_count": null,
      "outputs": []
    },
    {
      "cell_type": "markdown",
      "source": [
        "**IMPLEMENTATION OF ROUND ROBIN METHOD**\n"
      ],
      "metadata": {
        "id": "70z4iwvE7GEJ"
      }
    },
    {
      "cell_type": "code",
      "source": [
        "avg_array = [] \n",
        "quantum_array = [] \n",
        "tat_array = [] \n",
        "\n",
        "\n",
        "def findWaitingTime(at, n, bt, wt, quantum): \n",
        "  rem_bt = [] \n",
        "  rem_bt = deepcopy(bt) \n",
        "  t = 0 \n",
        "  done = False \n",
        "  while not done: \n",
        "    done = True \n",
        "    for i in range(n): \n",
        "      if rem_bt[i] > 0: \n",
        "        done = False \n",
        "        if rem_bt[i] > quantum: \n",
        "          t += quantum \n",
        "          rem_bt[i] -= quantum \n",
        "        else: \n",
        "          t = t + rem_bt[i] \n",
        "          wt[i] = t - bt[i] - at[i] \n",
        "          rem_bt[i] = 0 \n",
        "def findTurnAroundTime(n, bt, wt, tat): \n",
        "  for i in range(n): \n",
        "    tat[i] = bt[i] + wt[i] \n",
        "def findavgTime(at, n, bt, quantum): \n",
        "  wt = [0]*n \n",
        "  tat = [0]*n \n",
        "  total_wt = 0 \n",
        "  total_tat = 0 \n",
        "  findWaitingTime(at, n, bt, wt, quantum) \n",
        "  findTurnAroundTime(n, bt, wt, tat) \n",
        "  print(\"Average waiting time of RR= \", sum(wt) / len(wt)) \n",
        "  print(\"Average turn around time of RR = \", sum(tat) / len(tat)) \n"
      ],
      "metadata": {
        "id": "nRJIFFpr5zzX"
      },
      "execution_count": null,
      "outputs": []
    },
    {
      "cell_type": "markdown",
      "source": [
        "**RESULTS OF FUZZY RR METHOD** \n"
      ],
      "metadata": {
        "id": "fdBhghfK68QH"
      }
    },
    {
      "cell_type": "code",
      "source": [
        "FUZZY_RR(5,[0,2,4,6,8],[3,6,4,5,2],[3,6,4,5,2],[2,7,5,6,1],2) "
      ],
      "metadata": {
        "colab": {
          "base_uri": "https://localhost:8080/"
        },
        "id": "Ppstw5wd6TWu",
        "outputId": "2b26e3a8-eefe-4d9e-ede3-5c5913dce790"
      },
      "execution_count": null,
      "outputs": [
        {
          "output_type": "stream",
          "name": "stdout",
          "text": [
            "Average waiting time of Fuzzy RR =  3.8\n",
            "Average turn around time of Fuzzy RR =  7.8\n"
          ]
        }
      ]
    },
    {
      "cell_type": "markdown",
      "source": [
        "**RESULTS OF NORMAL RR METHOD**"
      ],
      "metadata": {
        "id": "Ji_g0vUA6zTW"
      }
    },
    {
      "cell_type": "code",
      "source": [
        "findavgTime([0,2,4,6,8],5,[3,6,4,5,2],2) "
      ],
      "metadata": {
        "colab": {
          "base_uri": "https://localhost:8080/"
        },
        "id": "tIAayLwa6kmH",
        "outputId": "1f7c3232-7483-4cc5-8811-768153aa6832"
      },
      "execution_count": null,
      "outputs": [
        {
          "output_type": "stream",
          "name": "stdout",
          "text": [
            "Average waiting time of RR=  7.0\n",
            "Average turn around time of RR =  11.0\n"
          ]
        }
      ]
    },
    {
      "cell_type": "code",
      "source": [],
      "metadata": {
        "id": "5Cei_RAL6vlz"
      },
      "execution_count": null,
      "outputs": []
    }
  ]
}